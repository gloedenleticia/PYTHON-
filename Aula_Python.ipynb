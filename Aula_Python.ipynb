{
  "nbformat": 4,
  "nbformat_minor": 0,
  "metadata": {
    "colab": {
      "provenance": [],
      "authorship_tag": "ABX9TyO70nH8lKPiB0ATiIg3Q0e+",
      "include_colab_link": true
    },
    "kernelspec": {
      "name": "python3",
      "display_name": "Python 3"
    },
    "language_info": {
      "name": "python"
    }
  },
  "cells": [
    {
      "cell_type": "markdown",
      "metadata": {
        "id": "view-in-github",
        "colab_type": "text"
      },
      "source": [
        "<a href=\"https://colab.research.google.com/github/gloedenleticia/PYTHON-/blob/main/Aula_Python.ipynb\" target=\"_parent\"><img src=\"https://colab.research.google.com/assets/colab-badge.svg\" alt=\"Open In Colab\"/></a>"
      ]
    },
    {
      "cell_type": "markdown",
      "source": [
        "#**Aula 1**  🤍 ⚡ 😻"
      ],
      "metadata": {
        "id": "BxwQP0XAnsHW"
      }
    },
    {
      "cell_type": "code",
      "source": [
        "print(\"I competição de programação de Start\")\n",
        "ano = \"IX\"\n",
        "print(f\"{ano} competição de programação da Start\")"
      ],
      "metadata": {
        "colab": {
          "base_uri": "https://localhost:8080/"
        },
        "id": "1aGiM0T-pdPu",
        "outputId": "1d03464c-7a8c-4664-ba2c-1b1019b7c295"
      },
      "execution_count": null,
      "outputs": [
        {
          "output_type": "stream",
          "name": "stdout",
          "text": [
            "IX competição de programação da Start\n"
          ]
        }
      ]
    },
    {
      "cell_type": "markdown",
      "source": [
        "#**Aula 2**  🇱 🇪 🦩"
      ],
      "metadata": {
        "id": "HL8Dk36zgsaq"
      }
    },
    {
      "cell_type": "code",
      "source": [
        "livro_ficcao = 8\n",
        "livro_n_ficcao = 10\n",
        "livro_infantil = 6\n",
        "pontos_rodrigo = livro_ficcao + livro_n_ficcao + livro_infantil\n",
        "pontos_ana = 2 * livro_ficcao + 5 * livro_infantil\n",
        "pontos_totais = pontos_rodrigo + pontos_ana\n",
        "print(f\"Os pontos totais do Rodrigo são {pontos_rodrigo}\")\n",
        "print(f\"Os pontos totais do ana são {pontos_ana}\")\n",
        "print(f\"Os pontos totais do Rodrigo e da Ana são {pontos_totais}\")"
      ],
      "metadata": {
        "id": "6L2lHbn1obKg",
        "outputId": "bd5e552a-e6be-4c84-c44a-465d42967a7c",
        "colab": {
          "base_uri": "https://localhost:8080/"
        }
      },
      "execution_count": null,
      "outputs": [
        {
          "output_type": "stream",
          "name": "stdout",
          "text": [
            "Os pontos totais do Rodrigo são 24\n",
            "Os pontos totais do ana são 46\n",
            "Os pontos totais do Rodrigo e da Ana são 70\n"
          ]
        }
      ]
    },
    {
      "cell_type": "markdown",
      "source": [
        "#**Aula 3 - Tabuada** ⛪ ❣ ⛩"
      ],
      "metadata": {
        "id": "jJJIqwgurjh2"
      }
    },
    {
      "cell_type": "code",
      "source": [
        "def tabuada(numero):\n",
        "    for contador in range(1, 11):  # Gera números de 1 a 10\n",
        "        print(f\"{numero} x {contador} = {numero * contador}\")\n",
        "numero = int(input(\"Digite um número para ver sua tabuada: \"))\n",
        "tabuada(numero)"
      ],
      "metadata": {
        "id": "1SeazC9stDs7"
      },
      "execution_count": null,
      "outputs": []
    },
    {
      "cell_type": "markdown",
      "source": [
        "#**Aula 4 - IMC** 💟 ⛺ ✝"
      ],
      "metadata": {
        "id": "2xBNRGm6ucxU"
      }
    },
    {
      "cell_type": "code",
      "source": [
        "peso = float(input(\"Digite seu peso (em kg): \"))\n",
        "altura = float(input(\"Digite sua altura (em metros): \"))\n",
        "imc = peso / (altura ** 2)\n",
        "print(f\"\\nSeu IMC é: {imc:.2f}\")\n",
        "if imc < 18.5:\n",
        "    print(\"Você está abaixo do peso.\")\n",
        "elif 18.5 <= imc < 25:\n",
        "    print(\"Você está no peso ideal.\")\n",
        "elif 25 <= imc < 30:\n",
        "    print(\"Você está com sobrepeso.\")\n",
        "else:\n",
        "    print(\"Você está acima do peso.\")"
      ],
      "metadata": {
        "id": "co4AUdCNvsVO",
        "outputId": "2ad531a0-459d-4b85-9fd3-81a86414639c",
        "colab": {
          "base_uri": "https://localhost:8080/"
        }
      },
      "execution_count": null,
      "outputs": [
        {
          "output_type": "stream",
          "name": "stdout",
          "text": [
            "Digite seu peso (em kg): 58\n",
            "Digite sua altura (em metros): 1.62\n",
            "\n",
            "Seu IMC é: 22.10\n",
            "Você está no peso ideal.\n"
          ]
        }
      ]
    },
    {
      "cell_type": "markdown",
      "source": [
        "#**Aula 5**  ✈ ✌ 🌠"
      ],
      "metadata": {
        "id": "xjd5DbCkkX1-"
      }
    },
    {
      "cell_type": "code",
      "source": [
        "print(\"Olá, sou seu assistente virtual, em que posso ajudar?\")\n",
        "nome = input(\"Digite seu nome: \")\n",
        "resposta = input(f\"Olá {nome}, qual tema você deseja conversar? Python, Javascript ou Matemática: \").lower()\n",
        "if resposta == \"python\":\n",
        "  print(f\"Ótomo {nome}, vamos falar sobre Python. \\n Python é uma linguagem de programação de alto nível, conhecida pela sua simplicidade e legibilidade, usada para uma variedade de tarefas como desenvolvimento web, ciência de dados, automação e inteligência artificial\")\n",
        "if resposta == \"javascript\":\n",
        "  print(f\"Ótomo {nome}, vamos falar sobre Javascript. \\n JavaScript é uma linguagem de programação de script, leve e de alto nível, usada principalmente para tornar as páginas da web interativas e dinâmicas. Ela é uma das três tecnologias principais da web (junto com HTML e CSS)\")\n",
        "if resposta == \"matemática\":\n",
        "  print(f\"Ótomo {nome}, vamos falar sobre Matemática. \\n A matemática é a ciência que estuda quantidades, estruturas, espaço e variação, utilizando raciocínio lógico, fórmulas e teoremas para resolver problemas. Ela se originou no Antigo Egito e na Babilônia, por volta de 3500 a.C..\")\n",
        "else:\n",
        "  print(f\"Que pena {nome}, não sei falar sobre esse assunto.\")"
      ],
      "metadata": {
        "id": "QW1xt-uOlenu",
        "outputId": "cdafc28a-1aec-47c0-9811-bcef025f3782",
        "colab": {
          "base_uri": "https://localhost:8080/"
        }
      },
      "execution_count": 8,
      "outputs": [
        {
          "output_type": "stream",
          "name": "stdout",
          "text": [
            "Olá, sou seu assistente virtual, em que posso ajudar?\n",
            "Digite seu nome: lele\n",
            "Olá lele, qual tema você deseja conversar? Python, Javascript ou Matemática: Javascript\n",
            "Ótomo lele, vamos falar sobre Javascript. \n",
            " JavaScript é uma linguagem de programação de script, leve e de alto nível, usada principalmente para tornar as páginas da web interativas e dinâmicas. Ela é uma das três tecnologias principais da web (junto com HTML e CSS)\n",
            "Que pena lele, não sei falar sobre esse assunto.\n"
          ]
        }
      ]
    }
  ]
}